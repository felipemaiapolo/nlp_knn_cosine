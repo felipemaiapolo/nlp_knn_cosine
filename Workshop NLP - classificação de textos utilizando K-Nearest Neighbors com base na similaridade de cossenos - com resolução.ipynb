{
 "cells": [
  {
   "cell_type": "markdown",
   "metadata": {},
   "source": [
    "# Workshop NLP: classificação de textos utilizando K-Nearest Neighbors com base na similaridade de cossenos "
   ]
  },
  {
   "cell_type": "markdown",
   "metadata": {},
   "source": [
    "Importando bibliotecas necessárias:"
   ]
  },
  {
   "cell_type": "code",
   "execution_count": 36,
   "metadata": {},
   "outputs": [],
   "source": [
    "import random\n",
    "import numpy as np\n",
    "import pandas as pd\n",
    "import copy \n",
    "import re\n",
    "import matplotlib.pyplot as plt\n",
    "\n",
    "import time\n",
    "\n",
    "import seaborn as sns\n",
    "\n",
    "from sklearn.model_selection import train_test_split\n",
    "\n",
    "from gensim.test.utils import common_texts\n",
    "from gensim.models.doc2vec import Doc2Vec, TaggedDocument"
   ]
  },
  {
   "cell_type": "markdown",
   "metadata": {},
   "source": [
    "Lendo base de dados com avaliação dos filmes (a base de dados pode ser baixada em https://www.kaggle.com/lakshmi25npathi/imdb-dataset-of-50k-movie-reviews):"
   ]
  },
  {
   "cell_type": "code",
   "execution_count": 37,
   "metadata": {},
   "outputs": [],
   "source": [
    "data=pd.read_csv(\"imdb-dataset-of-50k-movie-reviews/IMDB_Dataset.csv\")"
   ]
  },
  {
   "cell_type": "markdown",
   "metadata": {},
   "source": [
    "Visualizando base de dados:"
   ]
  },
  {
   "cell_type": "code",
   "execution_count": 38,
   "metadata": {},
   "outputs": [
    {
     "data": {
      "text/html": [
       "<div>\n",
       "<style scoped>\n",
       "    .dataframe tbody tr th:only-of-type {\n",
       "        vertical-align: middle;\n",
       "    }\n",
       "\n",
       "    .dataframe tbody tr th {\n",
       "        vertical-align: top;\n",
       "    }\n",
       "\n",
       "    .dataframe thead th {\n",
       "        text-align: right;\n",
       "    }\n",
       "</style>\n",
       "<table border=\"1\" class=\"dataframe\">\n",
       "  <thead>\n",
       "    <tr style=\"text-align: right;\">\n",
       "      <th></th>\n",
       "      <th>review</th>\n",
       "      <th>sentiment</th>\n",
       "    </tr>\n",
       "  </thead>\n",
       "  <tbody>\n",
       "    <tr>\n",
       "      <th>0</th>\n",
       "      <td>One of the other reviewers has mentioned that ...</td>\n",
       "      <td>positive</td>\n",
       "    </tr>\n",
       "    <tr>\n",
       "      <th>1</th>\n",
       "      <td>A wonderful little production. &lt;br /&gt;&lt;br /&gt;The...</td>\n",
       "      <td>positive</td>\n",
       "    </tr>\n",
       "    <tr>\n",
       "      <th>2</th>\n",
       "      <td>I thought this was a wonderful way to spend ti...</td>\n",
       "      <td>positive</td>\n",
       "    </tr>\n",
       "    <tr>\n",
       "      <th>3</th>\n",
       "      <td>Basically there's a family where a little boy ...</td>\n",
       "      <td>negative</td>\n",
       "    </tr>\n",
       "    <tr>\n",
       "      <th>4</th>\n",
       "      <td>Petter Mattei's \"Love in the Time of Money\" is...</td>\n",
       "      <td>positive</td>\n",
       "    </tr>\n",
       "  </tbody>\n",
       "</table>\n",
       "</div>"
      ],
      "text/plain": [
       "                                              review sentiment\n",
       "0  One of the other reviewers has mentioned that ...  positive\n",
       "1  A wonderful little production. <br /><br />The...  positive\n",
       "2  I thought this was a wonderful way to spend ti...  positive\n",
       "3  Basically there's a family where a little boy ...  negative\n",
       "4  Petter Mattei's \"Love in the Time of Money\" is...  positive"
      ]
     },
     "execution_count": 38,
     "metadata": {},
     "output_type": "execute_result"
    }
   ],
   "source": [
    "data.head()"
   ]
  },
  {
   "cell_type": "markdown",
   "metadata": {},
   "source": [
    "Vamos converter a nossa variável de interesse ('sentiment') em uma variável dummy binária:"
   ]
  },
  {
   "cell_type": "code",
   "execution_count": 39,
   "metadata": {},
   "outputs": [],
   "source": [
    "data['positive']=pd.get_dummies(data['sentiment'])['positive']"
   ]
  },
  {
   "cell_type": "markdown",
   "metadata": {},
   "source": [
    "Observando os dados novamente:"
   ]
  },
  {
   "cell_type": "code",
   "execution_count": 40,
   "metadata": {},
   "outputs": [
    {
     "data": {
      "text/html": [
       "<div>\n",
       "<style scoped>\n",
       "    .dataframe tbody tr th:only-of-type {\n",
       "        vertical-align: middle;\n",
       "    }\n",
       "\n",
       "    .dataframe tbody tr th {\n",
       "        vertical-align: top;\n",
       "    }\n",
       "\n",
       "    .dataframe thead th {\n",
       "        text-align: right;\n",
       "    }\n",
       "</style>\n",
       "<table border=\"1\" class=\"dataframe\">\n",
       "  <thead>\n",
       "    <tr style=\"text-align: right;\">\n",
       "      <th></th>\n",
       "      <th>review</th>\n",
       "      <th>sentiment</th>\n",
       "      <th>positive</th>\n",
       "    </tr>\n",
       "  </thead>\n",
       "  <tbody>\n",
       "    <tr>\n",
       "      <th>0</th>\n",
       "      <td>One of the other reviewers has mentioned that ...</td>\n",
       "      <td>positive</td>\n",
       "      <td>1</td>\n",
       "    </tr>\n",
       "    <tr>\n",
       "      <th>1</th>\n",
       "      <td>A wonderful little production. &lt;br /&gt;&lt;br /&gt;The...</td>\n",
       "      <td>positive</td>\n",
       "      <td>1</td>\n",
       "    </tr>\n",
       "    <tr>\n",
       "      <th>2</th>\n",
       "      <td>I thought this was a wonderful way to spend ti...</td>\n",
       "      <td>positive</td>\n",
       "      <td>1</td>\n",
       "    </tr>\n",
       "    <tr>\n",
       "      <th>3</th>\n",
       "      <td>Basically there's a family where a little boy ...</td>\n",
       "      <td>negative</td>\n",
       "      <td>0</td>\n",
       "    </tr>\n",
       "    <tr>\n",
       "      <th>4</th>\n",
       "      <td>Petter Mattei's \"Love in the Time of Money\" is...</td>\n",
       "      <td>positive</td>\n",
       "      <td>1</td>\n",
       "    </tr>\n",
       "  </tbody>\n",
       "</table>\n",
       "</div>"
      ],
      "text/plain": [
       "                                              review sentiment  positive\n",
       "0  One of the other reviewers has mentioned that ...  positive         1\n",
       "1  A wonderful little production. <br /><br />The...  positive         1\n",
       "2  I thought this was a wonderful way to spend ti...  positive         1\n",
       "3  Basically there's a family where a little boy ...  negative         0\n",
       "4  Petter Mattei's \"Love in the Time of Money\" is...  positive         1"
      ]
     },
     "execution_count": 40,
     "metadata": {},
     "output_type": "execute_result"
    }
   ],
   "source": [
    "data.head()"
   ]
  },
  {
   "cell_type": "markdown",
   "metadata": {},
   "source": [
    "Vamos transformar nossa base de dados em duas listas (uma para os textos e outra para a variável de interesse):"
   ]
  },
  {
   "cell_type": "code",
   "execution_count": 41,
   "metadata": {},
   "outputs": [],
   "source": [
    "X=data['review'].to_list()\n",
    "y=data['positive'].to_list()"
   ]
  },
  {
   "cell_type": "markdown",
   "metadata": {},
   "source": [
    "Checando um texto da lista:"
   ]
  },
  {
   "cell_type": "code",
   "execution_count": 42,
   "metadata": {},
   "outputs": [
    {
     "data": {
      "text/plain": [
       "'A wonderful little production. <br /><br />The filming technique is very unassuming- very old-time-BBC fashion and gives a comforting, and sometimes discomforting, sense of realism to the entire piece. <br /><br />The actors are extremely well chosen- Michael Sheen not only \"has got all the polari\" but he has all the voices down pat too! You can truly see the seamless editing guided by the references to Williams\\' diary entries, not only is it well worth the watching but it is a terrificly written and performed piece. A masterful production about one of the great master\\'s of comedy and his life. <br /><br />The realism really comes home with the little things: the fantasy of the guard which, rather than use the traditional \\'dream\\' techniques remains solid then disappears. It plays on our knowledge and our senses, particularly with the scenes concerning Orton and Halliwell and the sets (particularly of their flat with Halliwell\\'s murals decorating every surface) are terribly well done.'"
      ]
     },
     "execution_count": 42,
     "metadata": {},
     "output_type": "execute_result"
    }
   ],
   "source": [
    "X[1]"
   ]
  },
  {
   "cell_type": "markdown",
   "metadata": {},
   "source": [
    "Checando sua classe:"
   ]
  },
  {
   "cell_type": "code",
   "execution_count": 43,
   "metadata": {},
   "outputs": [
    {
     "data": {
      "text/plain": [
       "1"
      ]
     },
     "execution_count": 43,
     "metadata": {},
     "output_type": "execute_result"
    }
   ],
   "source": [
    "y[1]"
   ]
  },
  {
   "cell_type": "markdown",
   "metadata": {},
   "source": [
    "Definindo uma função para a limpeza dos textos:"
   ]
  },
  {
   "cell_type": "code",
   "execution_count": 44,
   "metadata": {},
   "outputs": [],
   "source": [
    "def clean(resulta):   \n",
    "    result = copy.deepcopy(resulta)\n",
    "    \n",
    "    result=result.lower()\n",
    "    result=result.replace(\"<br />\",\"\")\n",
    "    result=re.sub('\\d', ' ', result)\n",
    "    result=result.replace(\"\\n\", \" \")\n",
    "    result=result.replace(\"/\", \"\")\n",
    "    result=result.replace(\"|\", \"\")\n",
    "    result=result.replace(\"+\", \"\")\n",
    "    result=result.replace(\".\", \"\")\n",
    "    result=result.replace(\",\", \"\")\n",
    "    result=result.replace(\":\", \"\")\n",
    "    result=result.replace(\";\", \"\")\n",
    "    result=result.replace(\"!\", \"\")\n",
    "    result=result.replace(\"?\", \"\")\n",
    "    result=result.replace(\">\", \"\")\n",
    "    result=result.replace(\"=\", \"\")\n",
    "    result=result.replace(\"§\", \"\")\n",
    "    result=result.replace(\" - \", \" \")\n",
    "    result=result.replace(\" _ \", \" \")\n",
    "    result=result.replace(\"&\", \"\")\n",
    "    result=result.replace(\"*\", \"\")\n",
    "    result=result.replace(\"(\", \"\")\n",
    "    result=result.replace(\")\", \"\")\n",
    "    result=result.replace(\"ª\", \"\")\n",
    "    result=result.replace(\"º\", \"\")\n",
    "    result=result.replace(\"%\", \"\")\n",
    "    result=result.replace(\"[\", \"\")\n",
    "    result=result.replace(\"]\", \"\")\n",
    "    result=result.replace(\"{\", \"\")\n",
    "    result=result.replace(\"}\", \"\")\n",
    "    result=result.replace(\"'\", \"\")\n",
    "    result=result.replace('\"', \"\")\n",
    "    result=result.replace(\"“\", \"\")\n",
    "    result=result.replace(\"”\", \"\")\n",
    "    result=re.sub(' +', ' ', result)\n",
    "    \n",
    "    return(result)"
   ]
  },
  {
   "cell_type": "markdown",
   "metadata": {},
   "source": [
    "Limpando cada um dos textos:"
   ]
  },
  {
   "cell_type": "code",
   "execution_count": 45,
   "metadata": {},
   "outputs": [],
   "source": [
    "for i in range(len(X)):\n",
    "    X[i]=clean(X[i])"
   ]
  },
  {
   "cell_type": "markdown",
   "metadata": {},
   "source": [
    "Checando o mesmo texto de forma limpa:"
   ]
  },
  {
   "cell_type": "code",
   "execution_count": 46,
   "metadata": {},
   "outputs": [
    {
     "data": {
      "text/plain": [
       "'a wonderful little production the filming technique is very unassuming- very old-time-bbc fashion and gives a comforting and sometimes discomforting sense of realism to the entire piece the actors are extremely well chosen- michael sheen not only has got all the polari but he has all the voices down pat too you can truly see the seamless editing guided by the references to williams diary entries not only is it well worth the watching but it is a terrificly written and performed piece a masterful production about one of the great masters of comedy and his life the realism really comes home with the little things the fantasy of the guard which rather than use the traditional dream techniques remains solid then disappears it plays on our knowledge and our senses particularly with the scenes concerning orton and halliwell and the sets particularly of their flat with halliwells murals decorating every surface are terribly well done'"
      ]
     },
     "execution_count": 46,
     "metadata": {},
     "output_type": "execute_result"
    }
   ],
   "source": [
    "X[1]"
   ]
  },
  {
   "cell_type": "markdown",
   "metadata": {},
   "source": [
    "Vamos dividir nossa base em bases de treino teste e validação:"
   ]
  },
  {
   "cell_type": "code",
   "execution_count": 47,
   "metadata": {},
   "outputs": [],
   "source": [
    "X_train, X_test, y_train, y_test = train_test_split(X, y, test_size=0.20, random_state=42)\n",
    "X_test, X_val, y_test, y_val = train_test_split(X_test, y_test, test_size=0.5, random_state=42)"
   ]
  },
  {
   "cell_type": "markdown",
   "metadata": {},
   "source": [
    "Tokenizando os textos na base de treino:"
   ]
  },
  {
   "cell_type": "code",
   "execution_count": 48,
   "metadata": {},
   "outputs": [],
   "source": [
    "for i in range(len(X_train)):\n",
    "    X_train[i]=X_train[i].split(' ')"
   ]
  },
  {
   "cell_type": "markdown",
   "metadata": {},
   "source": [
    "## Doc2Vec\n",
    "\n",
    "Vamos fazer uma breve introdução ao modelo **Doc2Vec** para a a geração de representações de textos (embeddings) de uma forma fácil e rápida. O modelo **Doc2Vec** é do ano de 2014 e foi descrito pela primeira por pesquisadores do Google no artigo [1] - as imagens utilizadas a seguir foram retiradas deste artigo. Um tutorial bem didático de como a técnica funciona pode ser acessado no link [2] e a documentação do método está em [3]. Antes de explicar como é o funcionamento do modelo **Doc2Vec** é necessário entender como o modelo **Word2Vec**, para o cálculo de representações para palavras, funciona. O modelo **Word2Vec** é um modelo que gera representações vetoriais para palavras de acordo com os contextos em que as palavras aparecem nos textos da nossa base de dados. Dessa maneira é possível pensar que a palavra 'rei' está para 'homem' assim como 'rainha' está para 'mulher' como na figura abaixo:\n",
    "\n",
    "![title](word2vec.png)\n",
    "\n",
    "É impressionante ver o poder de uma técnica relativamente simples que é o **Word2Vec**. Existem basicamente duas versões de modelos para o **Word2Vec**, a COBW (Continuous Bag of Words) e Skip-Gram - aqui focaremos basicamente na primeira abordagem. A abordagem COBW considera que a posição das palavras podem ser preditas pelo contextos nas quais estão inseridas (palavras no entorno). Chamamos esse contexto de 'janela'. Todas as palavras do vocabulário começam ccom uma representação aleatória que o modelo melhora de acordo com o processo de aprendiagem ao tentar inferir a presença de palavras pelos contextos nos quais estão inseridas. Assim cada palavra adquire uma representação compatível com os contextos em que geralmente essa palavra aparece. Temos então o seguinte esquema para uma implementação do **Word2Vec** COBW:\n",
    "\n",
    "![title](word2vec2.png)\n",
    "\n",
    "Agora que entendemos um pouco melhor como funciona o modelo **Word2Vec**, podemos entender como é o funcionamento do **Doc2Vec**. O segundo modelo acaba sendo uma extensão do primeiro. Assim como o **Word2Vec**, o modelo **Doc2Vec** tem duas versões principais e aqui focaremos naquela análoga ao COBW, que se chama PV-DM (Distributed Memory version of Paragraph Vector). A ideia continua igual, no entanto adicionamos um vetor específico para cada um dos documentos afim de predizer as palavras daquele documento específico. Assim, parte da informação que não capturada pelas representações das palavras é aprendida pelas representações dos textos. Quando formos treinar o modelo **Doc2vec** basta fornecermos os parâmetros 'window' (para o tamanho da janela) e 'size' para o tamanho dos embeddings (representações dos textos).\n",
    "\n",
    "![title](doc2vec.png)\n",
    "\n",
    "Fontes:\n",
    "\n",
    "1. https://cs.stanford.edu/~quocle/paragraph_vector.pdf\n",
    "2. https://medium.com/scaleabout/a-gentle-introduction-to-doc2vec-db3e8c0cce5e\n",
    "3. https://radimrehurek.com/gensim/models/doc2vec.html"
   ]
  },
  {
   "cell_type": "markdown",
   "metadata": {},
   "source": [
    "Especificando hiperparâmetros para treinar modelo Doc2Vec. Neste caso 'window' se refere à distância máxima (em número de palavras) entre as palavras a serem inferidas e aquelas consideradas de contexto."
   ]
  },
  {
   "cell_type": "code",
   "execution_count": 49,
   "metadata": {},
   "outputs": [],
   "source": [
    "size=60\n",
    "window=10"
   ]
  },
  {
   "cell_type": "markdown",
   "metadata": {},
   "source": [
    "Treinando modelo:"
   ]
  },
  {
   "cell_type": "code",
   "execution_count": 50,
   "metadata": {},
   "outputs": [
    {
     "name": "stdout",
     "output_type": "stream",
     "text": [
      "0.99 minutos\n"
     ]
    }
   ],
   "source": [
    "start_time = time.time()\n",
    "\n",
    "documents = [TaggedDocument(doc, [i]) for i, doc in enumerate(X_train)]\n",
    "model = Doc2Vec(documents, vector_size=size, window=window, dm_mean=1)\n",
    "\n",
    "print(round((time.time() - start_time)/60,2),\"minutos\")"
   ]
  },
  {
   "cell_type": "markdown",
   "metadata": {},
   "source": [
    "Salvando modelo em disco:"
   ]
  },
  {
   "cell_type": "code",
   "execution_count": 51,
   "metadata": {},
   "outputs": [],
   "source": [
    "model.save('doc2vec')"
   ]
  },
  {
   "cell_type": "markdown",
   "metadata": {},
   "source": [
    "Definindo função que fará o embedding:"
   ]
  },
  {
   "cell_type": "code",
   "execution_count": 52,
   "metadata": {},
   "outputs": [],
   "source": [
    "def emb(txt, model, normalize=True): \n",
    "    model.random.seed(42)\n",
    "    x=model.infer_vector(txt, steps=20)\n",
    "    \n",
    "    if normalize: return(x)\n",
    "    else: return(x)"
   ]
  },
  {
   "cell_type": "markdown",
   "metadata": {},
   "source": [
    "Carregando modelo:"
   ]
  },
  {
   "cell_type": "code",
   "execution_count": 53,
   "metadata": {},
   "outputs": [],
   "source": [
    "embed = Doc2Vec.load('doc2vec')  "
   ]
  },
  {
   "cell_type": "markdown",
   "metadata": {},
   "source": [
    "Vamos checar um exemplo:"
   ]
  },
  {
   "cell_type": "code",
   "execution_count": 54,
   "metadata": {},
   "outputs": [
    {
     "data": {
      "text/plain": [
       "'if you like his show you might be a little disappointed this movie has some very funny moments and the laughs are pretty constant but none are very memorable or as funny as the things on the show the beginning sequence is really really silly and funny and a great start yes borat does make a cameo appearanceif you are a fan then watch it if you dont know him or dont like him then dont bother '"
      ]
     },
     "execution_count": 54,
     "metadata": {},
     "output_type": "execute_result"
    }
   ],
   "source": [
    "exemplo=X_test[2]\n",
    "exemplo"
   ]
  },
  {
   "cell_type": "markdown",
   "metadata": {},
   "source": [
    "Tokenizando:"
   ]
  },
  {
   "cell_type": "code",
   "execution_count": 55,
   "metadata": {},
   "outputs": [],
   "source": [
    "exemplo=exemplo.split(' ')"
   ]
  },
  {
   "cell_type": "markdown",
   "metadata": {},
   "source": [
    "Aplicando o embedding:"
   ]
  },
  {
   "cell_type": "code",
   "execution_count": 56,
   "metadata": {},
   "outputs": [
    {
     "data": {
      "text/plain": [
       "array([-0.19106789, -0.69806296, -0.45041594,  0.39730644,  0.7292162 ,\n",
       "        0.1752393 , -0.07743925,  0.47473794, -0.6600979 ,  0.44638714,\n",
       "        0.47932103,  0.23939644,  0.30662227,  0.01594139, -0.28682792,\n",
       "        0.2505153 ,  0.24800695, -0.11578204, -0.0965772 ,  0.1862743 ,\n",
       "       -0.3901997 , -0.15411462, -0.46736604,  0.06410377, -0.08080368,\n",
       "        0.08848385, -0.18887122,  0.15012017,  0.03431866,  0.13912565,\n",
       "       -0.20832346,  0.22123975,  0.30517954,  0.16565876,  0.4210236 ,\n",
       "       -0.2449358 ,  0.30144566, -0.9066247 ,  0.11628879,  0.03889168,\n",
       "        0.30056238,  0.56299764, -0.30950996, -0.25613806,  0.06913479,\n",
       "        0.38123992,  0.58782494,  0.46381363,  0.02587281,  0.40051618,\n",
       "        0.17312145, -0.2865817 , -0.48257592,  0.12123825, -0.5893265 ,\n",
       "       -0.25341198,  0.2859275 , -0.3282868 ,  0.20770316,  0.43039113],\n",
       "      dtype=float32)"
      ]
     },
     "execution_count": 56,
     "metadata": {},
     "output_type": "execute_result"
    }
   ],
   "source": [
    "emb(exemplo, embed)"
   ]
  },
  {
   "cell_type": "markdown",
   "metadata": {},
   "source": [
    "# Similaridade entre textos/palavras"
   ]
  },
  {
   "cell_type": "markdown",
   "metadata": {},
   "source": [
    "## Revisão de Álgebra Linear\n",
    "\n",
    "A Álgebra Linear é uma área fundamental da matemática com uma importância tão grande quanto à do Cálculo. Os objetos de estudo da Álgebra Linear são os Espaços Vetoriais, Vetores, Matrizes, Transformações Lineares entre outras coisas. Mas qual a importância disso tudo para a análise de dados e *Machine Learning*? Grande parte dos modelos estatísticos e matemáticos que veremos daqui para frente usam os conceitos de Vetores e Matrizes em sua construção, sem falar que muitas vezes conhecê-los pode facilitar a vida um bocado. É importante salientar que o conteúdo que será exposto nesse capítulo tem caráter extremamente prático, então deixaremos as partes mais teóricas para os livros didáticos. Mesmo que já tenha cursado essa disciplina anteriormente, acompanhe o capítulo e faça os exercícios propostos. Se ainda sim não ficar satisfeito, acompanhe nossas sugestões de leitura. Vamos lá!\n",
    "\n",
    "### Matrizes\n",
    "\n",
    "Matrizes (para mais detalhes: https://en.wikipedia.org/wiki/Matrix_(mathematics)) são uma coleção (Em computação, essas coleções se chamam arrays.) de números em forma de \"tabela\":\n",
    "\n",
    "\n",
    "\\begin{equation}\n",
    "  \\begin{aligned}\n",
    "      A=\\begin{pmatrix}\n",
    "      a_{11} &  a_{12}&  a_{13}& a_{14}\\\\ \n",
    "      a_{21} &  a_{22}&  a_{23}& a_{24}\\\\ \n",
    "      a_{31} &  a_{32}&  a_{33}& a_{34}\n",
    "      \\end{pmatrix}\n",
    "   \\end{aligned}\n",
    "\\end{equation}\n",
    "\n",
    "\n",
    "A matriz $A$ tem ordem 3X4 (3 linhas e 4 colunas), logo dizemos que $A \\in \\mathbb{R}^{3x4}$. Um exemplo mais palpável de matriz $A$ seria;\n",
    "\n",
    "\\begin{equation}\n",
    "  \\begin{aligned}\n",
    "      A=\\begin{pmatrix}\n",
    "      0 &  4&  1& 7\\\\ \n",
    "      9& 3 & 4 & 1\\\\ \n",
    "      6 & 3 &  1& 0\n",
    "      \\end{pmatrix}\n",
    "   \\end{aligned}\n",
    "\\end{equation}\n",
    "\n",
    "### Vetores\n",
    "\n",
    "Os vetores são objetos que são encontrados nos Espaços Vetorias (https://en.wikipedia.org/wiki/Vector_space), que são estruturas matemáticas - se você for curioso(a) vale a pena conferir, mas se não tiver paciência, não há grandes problemas. Para nossos fins, vamos assumir que o espaço no qual estaremos trabalhando é o $\\mathbb{R}^n$, sendo que $n$ é um número Natural diferente de zero. Ou seja, os elementos que habitam o $\\mathbb{R}^n$ são pontos, como os pares ordenados, mas com $n$ coordenadas. Devido a uma série de definições e resultados matemáticos (Base ortonormal, coordenadas e espaços isomorfos.) cada um desses pontos representa um objeto geométrico chamado Vetor (Mais tarde veremos os vetores na forma matricial.) e devido a esses resultados matemáticos já citados, trabalhar com os pontos no $\\mathbb{R}^n$ é equivalente a trabalhar com os vetores diretamente. Então a partir de agora passaremos a chamar pontos da forma $\\mathbf{x}=(x_1,x_2,...,x_n)$ de vetores. Além dessa forma, o vetor $\\mathbf{x}$ também pode ser representado na forma matricial (A convenção é de adotar vetores coluna - com $n$ linhas e 1 coluna.):\n",
    "\n",
    "\\begin{equation}\n",
    "  \\begin{aligned}\n",
    "      \\mathbf{x}=\\begin{pmatrix} x_1 \n",
    "      \\\\ x_2\n",
    "      \\\\ ...\n",
    "      \\\\ x_n\n",
    "     \\end{pmatrix}\n",
    "   \\end{aligned}\n",
    "\\end{equation}\n",
    "\n",
    "### Operações com matrizes e vetores\n",
    "\n",
    "#### Adição e subtração\n",
    "\n",
    "Quando queremos somar duas matrizes (incluindo vetores na forma matricial) basta somarmos elemento por elemento. Logo, se $A+B=C$, então $a_{ij}+b_{ij}=c_{ij}$. por outro lado, se $A-B=C$, então $a_{ij}-b_{ij}=c_{ij}$. Pela definição de adição e subtração, temos que as matrizes $A$ e $B$ devem ter a mesma ordem $n X m$.\n",
    "\n",
    "#### Produto por um escalar\n",
    "\n",
    "Quando queremos multiplicar matrizes (incluindo vetores na forma matricial) por um escalar $\\alpha$, basta multiplicarmos todos os elementos da matriz pelo escalar. Ou seja, se $B=\\alpha A$ então, $b_{ij}=\\alpha a_{ij}$.\n",
    "\n",
    "#### Multiplicação de duas matrizes\n",
    "\n",
    "Quando queremos multiplicar uma matriz (incluindo vetores na forma matricial) por outra matriz temos que aplicar uma fórmula específica. Vamos supor que $A\\in \\mathrm{R}^{n X k}$ e $B\\in \\mathrm{R}^{k X m}$ então se $C=AB$, logo $c_{ij}=a_{i1}b_{1j}+a_{i2}b_{2j}+...+a_{ik}b_{kj}=\\sum_{p=1}^{k} a_{ip}b_{pj}$. Da nossa definição seguem as seguintes conclusões: (i) o número de colunas da primeira matriz (A) deve ser igual ao número de linhas da segunda (B) e (ii) e matriz produto C tem o número de linhas da primeira e o número de colunas da segunda.\n",
    "\n",
    "#### Produto elemento a elemento\n",
    "\n",
    "Nesse caso necessitamos que as duas matrizes que estão sendo multiplicadas tenham a mesma ordem. Se $C=A \\bigodot B$ então $c_{ij}=a_{ij}b_{ij}$.\n",
    "\n",
    "#### Transposição\n",
    "\n",
    "A transposição é uma operação que inverte as colunas e as linhas de uma matrix, ou seja, se $B=A^T$ é a transposta de $A$, então $b_{ij}=a_{ji}$.\n",
    "\n",
    "#### Links externos\n",
    "\n",
    "Para ver com mais detalhes como funcionam as operações com matrizes, basta acessar os seguintes links:\n",
    "- https://www.georgebrown.ca/uploadedFiles/TLC/_documents/Basic%20Matrix%20Operations.pdf\n",
    "- https://www.infoescola.com/matematica/operacoes-com-matrizes-1/\n",
    "- https://en.wikipedia.org/wiki/Matrix_(mathematics)\n",
    "\n",
    "\n",
    "### Matrizes especiais\n",
    "1. Matriz simétrica: a matriz simétrica é aquela que satisfaz $A=A^T$. Deve ser quadrada, ou seja, o número de linhas deve ser igual ao número de colunas;\n",
    "2.  Matriz identidade: a matriz identidade é tem zeros em todas suas entradas, exceto pela sua diagonal principal, que é composta exclusivamente por uns. Deve ser quadrada e é denotada pela letra \"i\" maiúscula - I. A matriz $I_n$, por exemplo, é uma matriz identidade de ordem $n X n$. Uma propriedade de I é que se $AI_m=I_nA=A$, para qualquer matriz $A\\in \\mathrm{R}^{n X m}$;\n",
    "3. Matriz inversa: se $A^{-1}$ é a inversa de A, então $A^{-1}A=AA^{-1}=I$.\n",
    "4. Matriz de co-ocorrência são matrizes quadradas, geralmente utilizadas em imagens, onde são utilizadas para o cálculo de descritores. Nessas matrizes são armazenadas os valores de níveis de cinza da imagem nos seguintes ângulos:  $0, 45, 90, 135$, os demais ângulos são calculados por simetria (http://iris.sel.eesc.usp.br/wvc/Anais_WVC2012/pdf/97967.pdf).\n",
    "5. Matriz de covariância: são as matrizes que contém as variâncias das variáveis em sua diagonal e nos demais pontos da matriz possui a covariância de todas as combinações dos pares das variáveis. São caracterizadas por serem matrizes quadradas. Geralmente são empregadas em aplicações estatísticas. \n",
    "\n",
    "### Produto escalar e norma euclidiana (comprimento)\n",
    "\n",
    "Se ambos $\\mathbf{x}=\\begin{pmatrix} x_1 & x_2  & ... & x_n \\end{pmatrix}^T$ e $\\mathbf{y}=\\begin{pmatrix} y_1 & y_2  & ... & y_n \\end{pmatrix}^T$ são elementos do conjunto $\\mathrm{R}^{n}$ então o produto escalar, ou muitas vezes referenciado como produto interno ou *inner product*, desses dois vetores é definido como $\\sum_{i=1}^{n}x_iy_i=\\mathbf{x}^T\\mathbf{y}$. A norma euclidiana também conhecida como \"módulo\" do vetor pode ser calculada com a seguinte fórmula $\\left \\| \\mathbf{x} \\right \\|=\\sqrt{x^2_1+x^2_2+...+x^2_n}=\\sqrt{\\sum_{i=1}^{n}x^2_i}=\\sqrt{\\mathbf{x}^T\\mathbf{x}}$.\n"
   ]
  },
  {
   "cell_type": "markdown",
   "metadata": {},
   "source": [
    "## Similaridade\n",
    "\n",
    "No contexto de NLP é comum utilizarmos a similaridade de cossenos para compararmos dois textos. É importante recordar que em nosso contexto, cada um dos textos é tratado como um vetor com comprimento, direção e sentido. Um vetor será expresso aqui na forma de matrizes unidimensionais (Numpy arrays). Um vetor de tamanho $n$ é uma lista de valores em forma matricial da seguinte forma:\n",
    "\n",
    "\\begin{equation}\n",
    "  \\begin{aligned}\n",
    "      \\mathbf{x}=\\begin{pmatrix} x_1 \n",
    "      \\\\ x_2\n",
    "      \\\\ ...\n",
    "      \\\\ x_n\n",
    "     \\end{pmatrix}\n",
    "   \\end{aligned}\n",
    "\\end{equation}\n",
    "\n",
    "Assumindo que outro vetor $\\mathbf{y}$ tenha o mesmo tamanho de $\\mathbf{x}$, o cosseno do ângulo ($\\theta$) entre os vetores é calculado da seguinte forma:\n",
    "\n",
    "\\begin{equation}\n",
    "  \\begin{aligned}\n",
    "      cos(\\theta)=\\frac{\\sum_{i=1}^{n}x_iy_i }{\\sqrt{\\sum_{i=1}^{n}x_i^2}\\sqrt{\\sum_{i=1}^{n}y_i^2}}=\n",
    "      \\frac{\\mathbf{x}^T\\mathbf{y}}{\\sqrt{\\mathbf{x}^T\\mathbf{x}}.\\sqrt{\\mathbf{y}^T\\mathbf{y}}}=\n",
    "      \\frac{\\mathbf{x}^T\\mathbf{y}}{\\left \\| \\mathbf{x} \\right \\|.\\left \\| \\mathbf{y} \\right \\|}\n",
    "   \\end{aligned}\n",
    "\\end{equation}\n",
    "\n",
    "Se o comprimento dos vetores $\\mathbf{y}$ e $\\mathbf{x}$ é um, então podemos reescrever o cosseno da seguinte forma:\n",
    "\n",
    "\\begin{equation}\n",
    "  \\begin{aligned}\n",
    "      cos(\\theta)=\\sum_{i=1}^{n}x_iy_i=\n",
    "      \\mathbf{x}^T\\mathbf{y}\n",
    "   \\end{aligned}\n",
    "\\end{equation}\n",
    "\n",
    "Para normalizar um vetor $\\mathbf{x}$ para que tenha comprimento 1, basta fazer a seguinte atualização:\n",
    "\n",
    "\\begin{equation}\n",
    "  \\begin{aligned}\n",
    "      \\mathbf{x}=\\frac{\\mathbf{x}}{\\sqrt{\\mathbf{x}^T\\mathbf{x}}}\n",
    "   \\end{aligned}\n",
    "\\end{equation}"
   ]
  },
  {
   "cell_type": "markdown",
   "metadata": {},
   "source": [
    "## Parte prática\n",
    "\n",
    "Definindo função que calcula a similaridade entre dois vetores. A similaridade (cosseno) varia de -1 a 1 sendo que valores positivos tem sentido parecidos e valores negativos nos dão sentidos opostos:"
   ]
  },
  {
   "cell_type": "code",
   "execution_count": 57,
   "metadata": {},
   "outputs": [],
   "source": [
    "def simil(x,y):\n",
    "    return((x@y)/np.sqrt((x@x)*(y@y)))"
   ]
  },
  {
   "cell_type": "markdown",
   "metadata": {},
   "source": [
    "Definindo dois vetores e os visualizando:"
   ]
  },
  {
   "cell_type": "code",
   "execution_count": 58,
   "metadata": {},
   "outputs": [
    {
     "data": {
      "image/png": "[encoded data removed]",
      "text/plain": [
       "<Figure size 432x288 with 1 Axes>"
      ]
     },
     "metadata": {
      "needs_background": "light"
     },
     "output_type": "display_data"
    }
   ],
   "source": [
    "v1=np.array([2,2])\n",
    "v2=np.array([2,2.5])\n",
    "\n",
    "V = np.array([v1,v2])\n",
    "origin = [0], [0] # origin point\n",
    "\n",
    "plt.quiver(*origin, V[:,0], V[:,1], color=['r','b','g'], scale=10)\n",
    "plt.show()"
   ]
  },
  {
   "cell_type": "markdown",
   "metadata": {},
   "source": [
    "Veja que o menor ângulo entre os vetores é pequeno então a similaridade deve dar algo próximo de 1:"
   ]
  },
  {
   "cell_type": "code",
   "execution_count": 59,
   "metadata": {},
   "outputs": [
    {
     "data": {
      "text/plain": [
       "0.9938837346736188"
      ]
     },
     "execution_count": 59,
     "metadata": {},
     "output_type": "execute_result"
    }
   ],
   "source": [
    "simil(v1,v2)"
   ]
  },
  {
   "cell_type": "markdown",
   "metadata": {},
   "source": [
    "Veja que o cosseno entre os vetores não depende do tamanho dos vetores. Vamos manter o ângulo mas diminuindo o tamanho do vetor vermelho:"
   ]
  },
  {
   "cell_type": "code",
   "execution_count": 60,
   "metadata": {},
   "outputs": [
    {
     "data": {
      "image/png": "[encoded data removed]",
      "text/plain": [
       "<Figure size 432x288 with 1 Axes>"
      ]
     },
     "metadata": {
      "needs_background": "light"
     },
     "output_type": "display_data"
    }
   ],
   "source": [
    "v1=np.array([1,1])\n",
    "v2=np.array([2,2.5])\n",
    "\n",
    "V = np.array([v1,v2])\n",
    "origin = [0], [0] # origin point\n",
    "\n",
    "plt.quiver(*origin, V[:,0], V[:,1], color=['r','b','g'], scale=10)\n",
    "plt.show()"
   ]
  },
  {
   "cell_type": "markdown",
   "metadata": {},
   "source": [
    "Veja que a medida de similaridade não mudou:"
   ]
  },
  {
   "cell_type": "code",
   "execution_count": 61,
   "metadata": {},
   "outputs": [
    {
     "data": {
      "text/plain": [
       "0.9938837346736188"
      ]
     },
     "execution_count": 61,
     "metadata": {},
     "output_type": "execute_result"
    }
   ],
   "source": [
    "simil(v1,v2)"
   ]
  },
  {
   "cell_type": "markdown",
   "metadata": {},
   "source": [
    "Se os vetores formam 90 graus entre si, temos que eles são ortogonais (não tem similaridade alguma entre si):"
   ]
  },
  {
   "cell_type": "code",
   "execution_count": 62,
   "metadata": {},
   "outputs": [
    {
     "data": {
      "image/png": "[encoded data removed]",
      "text/plain": [
       "<Figure size 432x288 with 1 Axes>"
      ]
     },
     "metadata": {
      "needs_background": "light"
     },
     "output_type": "display_data"
    }
   ],
   "source": [
    "v1=np.array([-5,4])\n",
    "v2=np.array([2,2.5])\n",
    "\n",
    "V = np.array([v1,v2])\n",
    "origin = [0], [0] # origin point\n",
    "\n",
    "plt.quiver(*origin, V[:,0], V[:,1], color=['r','b','g'], scale=15)\n",
    "plt.show()"
   ]
  },
  {
   "cell_type": "markdown",
   "metadata": {},
   "source": [
    "Calculando a similaridade:"
   ]
  },
  {
   "cell_type": "code",
   "execution_count": 63,
   "metadata": {},
   "outputs": [
    {
     "data": {
      "text/plain": [
       "0.0"
      ]
     },
     "execution_count": 63,
     "metadata": {},
     "output_type": "execute_result"
    }
   ],
   "source": [
    "simil(v1,v2)"
   ]
  },
  {
   "cell_type": "markdown",
   "metadata": {},
   "source": [
    "Já se o menor ângulo entre os vetores é maior que 90 graus, ou seja, os vetores estão 'apontando' para sentidos opostos, a similaridade é negativa:"
   ]
  },
  {
   "cell_type": "code",
   "execution_count": 64,
   "metadata": {},
   "outputs": [
    {
     "data": {
      "image/png": "[encoded data removed]",
      "text/plain": [
       "<Figure size 432x288 with 1 Axes>"
      ]
     },
     "metadata": {
      "needs_background": "light"
     },
     "output_type": "display_data"
    }
   ],
   "source": [
    "v1=np.array([-6,1])\n",
    "v2=np.array([2,-2.5])\n",
    "\n",
    "V = np.array([v1,v2])\n",
    "origin = [0], [0] # origin point\n",
    "\n",
    "plt.quiver(*origin, V[:,0], V[:,1], color=['r','b','g'], scale=15)\n",
    "plt.show()"
   ]
  },
  {
   "cell_type": "markdown",
   "metadata": {},
   "source": [
    "Similaridade:"
   ]
  },
  {
   "cell_type": "code",
   "execution_count": 65,
   "metadata": {},
   "outputs": [
    {
     "data": {
      "text/plain": [
       "-0.7445694406464903"
      ]
     },
     "execution_count": 65,
     "metadata": {},
     "output_type": "execute_result"
    }
   ],
   "source": [
    "simil(v1,v2)"
   ]
  },
  {
   "cell_type": "markdown",
   "metadata": {},
   "source": [
    "# TO DOs\n",
    "\n",
    "- Deixar bases de treino, teste e validação em forma de matrizes (arrays bidimensionais) sendo que em cada linha devemos ter um texto 'embeddado' diferente e nas colunas devemos ter as dimnesões do embedding. Uma dica é mexer na função do embedding para que cada um dos vetores que representam um texto tenha comprimento 1, para facilitar no momento do cálculo das similaridades;\n",
    "\n",
    "- Achar os $k$ textos mais próximos na base de treino para todos os textos da base de validação. Dica 1: utilizar multiplicação de matrizes. Dica 2: utilizar função 'argsort' do pacote Numpy:\n",
    "\n",
    "- Determinar $k$ que maximiza a acurácia do modelo em fazer a classificação;\n",
    "\n",
    "- Testar o modelo com melhor $k$ na base de teste e desenhar a matriz de confusão;"
   ]
  }
 ],
 "metadata": {
  "kernelspec": {
   "display_name": "Python 3",
   "language": "python",
   "name": "python3"
  },
  "language_info": {
   "codemirror_mode": {
    "name": "ipython",
    "version": 3
   },
   "file_extension": ".py",
   "mimetype": "text/x-python",
   "name": "python",
   "nbconvert_exporter": "python",
   "pygments_lexer": "ipython3",
   "version": "3.7.3"
  }
 },
 "nbformat": 4,
 "nbformat_minor": 2
}
